{
 "cells": [
  {
   "cell_type": "markdown",
   "metadata": {},
   "source": [
    "# MIT Supercloud dataset: análise das séries temporais\n",
    "\n",
    "Meu objetivo aqui é estruturar o processo de conversão das séries temporais. Eu já filtrei os logs do SLURM e defini os jobs que serão usados."
   ]
  },
  {
   "cell_type": "code",
   "execution_count": 27,
   "metadata": {},
   "outputs": [],
   "source": [
    "import pandas as pd\n",
    "\n",
    "pd.set_option('display.max_columns', 25)"
   ]
  },
  {
   "cell_type": "code",
   "execution_count": 30,
   "metadata": {},
   "outputs": [
    {
     "data": {
      "text/html": [
       "<div>\n",
       "<style scoped>\n",
       "    .dataframe tbody tr th:only-of-type {\n",
       "        vertical-align: middle;\n",
       "    }\n",
       "\n",
       "    .dataframe tbody tr th {\n",
       "        vertical-align: top;\n",
       "    }\n",
       "\n",
       "    .dataframe thead th {\n",
       "        text-align: right;\n",
       "    }\n",
       "</style>\n",
       "<table border=\"1\" class=\"dataframe\">\n",
       "  <thead>\n",
       "    <tr style=\"text-align: right;\">\n",
       "      <th></th>\n",
       "      <th>id</th>\n",
       "      <th>subtime</th>\n",
       "      <th>res</th>\n",
       "      <th>profile</th>\n",
       "      <th>partition</th>\n",
       "      <th>walltime</th>\n",
       "      <th>runtime</th>\n",
       "      <th>cpus</th>\n",
       "      <th>waittime</th>\n",
       "      <th>steps</th>\n",
       "      <th>series</th>\n",
       "    </tr>\n",
       "  </thead>\n",
       "  <tbody>\n",
       "    <tr>\n",
       "      <th>0</th>\n",
       "      <td>82691694838059</td>\n",
       "      <td>1609535703</td>\n",
       "      <td>1</td>\n",
       "      <td>usage_82691694838059</td>\n",
       "      <td>GPU-avail</td>\n",
       "      <td>4294967295</td>\n",
       "      <td>308</td>\n",
       "      <td>20</td>\n",
       "      <td>270594</td>\n",
       "      <td>[-1, batch]</td>\n",
       "      <td>[1, 1]</td>\n",
       "    </tr>\n",
       "    <tr>\n",
       "      <th>1</th>\n",
       "      <td>3434806870797</td>\n",
       "      <td>1609535703</td>\n",
       "      <td>1</td>\n",
       "      <td>usage_3434806870797</td>\n",
       "      <td>GPU-avail</td>\n",
       "      <td>4294967295</td>\n",
       "      <td>397</td>\n",
       "      <td>20</td>\n",
       "      <td>270904</td>\n",
       "      <td>[-1, batch]</td>\n",
       "      <td>[1, 1]</td>\n",
       "    </tr>\n",
       "    <tr>\n",
       "      <th>2</th>\n",
       "      <td>8370846758272</td>\n",
       "      <td>1609535703</td>\n",
       "      <td>1</td>\n",
       "      <td>usage_8370846758272</td>\n",
       "      <td>GPU-avail</td>\n",
       "      <td>4294967295</td>\n",
       "      <td>327</td>\n",
       "      <td>20</td>\n",
       "      <td>271301</td>\n",
       "      <td>[-1, batch]</td>\n",
       "      <td>[1, 1]</td>\n",
       "    </tr>\n",
       "    <tr>\n",
       "      <th>3</th>\n",
       "      <td>16051179268048</td>\n",
       "      <td>1609535912</td>\n",
       "      <td>1</td>\n",
       "      <td>usage_16051179268048</td>\n",
       "      <td>GPU-avail</td>\n",
       "      <td>4294967295</td>\n",
       "      <td>307</td>\n",
       "      <td>20</td>\n",
       "      <td>272558</td>\n",
       "      <td>[-1, batch]</td>\n",
       "      <td>[1, 1]</td>\n",
       "    </tr>\n",
       "    <tr>\n",
       "      <th>4</th>\n",
       "      <td>26419036762941</td>\n",
       "      <td>1609809099</td>\n",
       "      <td>1</td>\n",
       "      <td>usage_26419036762941</td>\n",
       "      <td>GPU-avail</td>\n",
       "      <td>4294967295</td>\n",
       "      <td>360</td>\n",
       "      <td>1</td>\n",
       "      <td>1</td>\n",
       "      <td>[-1, batch]</td>\n",
       "      <td>[1, 1]</td>\n",
       "    </tr>\n",
       "  </tbody>\n",
       "</table>\n",
       "</div>"
      ],
      "text/plain": [
       "               id     subtime  res               profile  partition  \\\n",
       "0  82691694838059  1609535703    1  usage_82691694838059  GPU-avail   \n",
       "1   3434806870797  1609535703    1   usage_3434806870797  GPU-avail   \n",
       "2   8370846758272  1609535703    1   usage_8370846758272  GPU-avail   \n",
       "3  16051179268048  1609535912    1  usage_16051179268048  GPU-avail   \n",
       "4  26419036762941  1609809099    1  usage_26419036762941  GPU-avail   \n",
       "\n",
       "     walltime  runtime  cpus  waittime        steps  series  \n",
       "0  4294967295      308    20    270594  [-1, batch]  [1, 1]  \n",
       "1  4294967295      397    20    270904  [-1, batch]  [1, 1]  \n",
       "2  4294967295      327    20    271301  [-1, batch]  [1, 1]  \n",
       "3  4294967295      307    20    272558  [-1, batch]  [1, 1]  \n",
       "4  4294967295      360     1         1  [-1, batch]  [1, 1]  "
      ]
     },
     "execution_count": 30,
     "metadata": {},
     "output_type": "execute_result"
    }
   ],
   "source": [
    "logs = pd.read_csv('scheduler-log-batsim-ready.csv', converters={'steps': eval, 'series': eval})\n",
    "logs.head()"
   ]
  },
  {
   "cell_type": "markdown",
   "metadata": {},
   "source": [
    "# TODO: Adicionar o filtro abaixo no outro arquivo"
   ]
  },
  {
   "cell_type": "code",
   "execution_count": 34,
   "metadata": {},
   "outputs": [
    {
     "data": {
      "text/plain": [
       "0         False\n",
       "1         False\n",
       "2         False\n",
       "3         False\n",
       "4         False\n",
       "          ...  \n",
       "386755    False\n",
       "386756    False\n",
       "386757    False\n",
       "386758    False\n",
       "386759    False\n",
       "Name: series, Length: 386760, dtype: bool"
      ]
     },
     "execution_count": 34,
     "metadata": {},
     "output_type": "execute_result"
    }
   ],
   "source": [
    "logs['series'].apply(lambda x: x[-1] > 1)"
   ]
  },
  {
   "cell_type": "code",
   "execution_count": 35,
   "metadata": {},
   "outputs": [
    {
     "name": "stdout",
     "output_type": "stream",
     "text": [
      "<class 'pandas.core.frame.DataFrame'>\n",
      "Index: 386757 entries, 0 to 386759\n",
      "Data columns (total 11 columns):\n",
      " #   Column     Non-Null Count   Dtype \n",
      "---  ------     --------------   ----- \n",
      " 0   id         386757 non-null  int64 \n",
      " 1   subtime    386757 non-null  int64 \n",
      " 2   res        386757 non-null  int64 \n",
      " 3   profile    386757 non-null  object\n",
      " 4   partition  386757 non-null  object\n",
      " 5   walltime   386757 non-null  int64 \n",
      " 6   runtime    386757 non-null  int64 \n",
      " 7   cpus       386757 non-null  int64 \n",
      " 8   waittime   386757 non-null  int64 \n",
      " 9   steps      386757 non-null  object\n",
      " 10  series     386757 non-null  object\n",
      "dtypes: int64(7), object(4)\n",
      "memory usage: 35.4+ MB\n"
     ]
    }
   ],
   "source": [
    "logs.drop(logs[logs['series'].apply(lambda x: x[-1] > 1)].index, inplace=True)\n",
    "logs.info()"
   ]
  },
  {
   "cell_type": "markdown",
   "metadata": {},
   "source": [
    "Quero selecionar um job de cada tipo e emular a conversão de cada um deles. Lembrando que temos jobs dos seguintes tipos:\n",
    "- [-4, batch], nó único;\n",
    "- [-1, batch], nó único;\n",
    "- [-4, 0], nó único;\n",
    "- [-4, 0, batch], nó único e múltiplos nós;\n",
    "- [-1, 0, batch], nó único e múltiplos nós."
   ]
  },
  {
   "cell_type": "code",
   "execution_count": 44,
   "metadata": {},
   "outputs": [],
   "source": [
    "type1_job = logs[(logs.res == 1) & (logs['steps'].isin([['-4', 'batch']]))].iloc[0]\n",
    "type2_job = logs[(logs.res == 1) & (logs['steps'].isin([['-1', 'batch']]))].iloc[0]\n",
    "type3_job = logs[(logs.res == 1) & (logs['steps'].isin([['-4', '0']]))].iloc[0]\n",
    "type4_job = logs[(logs.res == 1) & (logs['steps'].isin([['-4', '0', 'batch']]))].iloc[0]\n",
    "type5_job = logs[(logs.res == 1) & (logs['steps'].isin([['-1', '0', 'batch']]))].iloc[0]\n",
    "type6_job = logs[(logs.res > 1) & (logs['steps'].isin([['-4', '0', 'batch']]))].iloc[1]\n",
    "type7_job = logs[(logs.res > 1) & (logs['steps'].isin([['-1', '0', 'batch']]))].iloc[3]"
   ]
  },
  {
   "cell_type": "code",
   "execution_count": 45,
   "metadata": {},
   "outputs": [
    {
     "data": {
      "text/plain": [
       "id                 6828654029886\n",
       "subtime               1610186044\n",
       "res                            2\n",
       "profile      usage_6828654029886\n",
       "partition              GPU-avail\n",
       "walltime              4294967295\n",
       "runtime                    36982\n",
       "cpus                          48\n",
       "waittime                       0\n",
       "steps             [-1, 0, batch]\n",
       "series                 [2, 1, 1]\n",
       "Name: 15069, dtype: object"
      ]
     },
     "execution_count": 45,
     "metadata": {},
     "output_type": "execute_result"
    }
   ],
   "source": [
    "type7_job"
   ]
  },
  {
   "cell_type": "code",
   "execution_count": 11,
   "metadata": {},
   "outputs": [
    {
     "data": {
      "text/html": [
       "<div>\n",
       "<style scoped>\n",
       "    .dataframe tbody tr th:only-of-type {\n",
       "        vertical-align: middle;\n",
       "    }\n",
       "\n",
       "    .dataframe tbody tr th {\n",
       "        vertical-align: top;\n",
       "    }\n",
       "\n",
       "    .dataframe thead th {\n",
       "        text-align: right;\n",
       "    }\n",
       "</style>\n",
       "<table border=\"1\" class=\"dataframe\">\n",
       "  <thead>\n",
       "    <tr style=\"text-align: right;\">\n",
       "      <th></th>\n",
       "      <th>Step</th>\n",
       "      <th>Series</th>\n",
       "      <th>CPUFrequency</th>\n",
       "      <th>CPUUtilization</th>\n",
       "    </tr>\n",
       "  </thead>\n",
       "  <tbody>\n",
       "    <tr>\n",
       "      <th>0</th>\n",
       "      <td>-4</td>\n",
       "      <td>0</td>\n",
       "      <td>3541</td>\n",
       "      <td>0.0</td>\n",
       "    </tr>\n",
       "    <tr>\n",
       "      <th>1</th>\n",
       "      <td>-4</td>\n",
       "      <td>0</td>\n",
       "      <td>3541</td>\n",
       "      <td>0.0</td>\n",
       "    </tr>\n",
       "    <tr>\n",
       "      <th>2</th>\n",
       "      <td>-4</td>\n",
       "      <td>0</td>\n",
       "      <td>3541</td>\n",
       "      <td>0.0</td>\n",
       "    </tr>\n",
       "    <tr>\n",
       "      <th>3</th>\n",
       "      <td>-4</td>\n",
       "      <td>0</td>\n",
       "      <td>3541</td>\n",
       "      <td>0.0</td>\n",
       "    </tr>\n",
       "    <tr>\n",
       "      <th>4</th>\n",
       "      <td>-4</td>\n",
       "      <td>0</td>\n",
       "      <td>3541</td>\n",
       "      <td>0.0</td>\n",
       "    </tr>\n",
       "  </tbody>\n",
       "</table>\n",
       "</div>"
      ],
      "text/plain": [
       "  Step  Series  CPUFrequency  CPUUtilization\n",
       "0   -4       0          3541             0.0\n",
       "1   -4       0          3541             0.0\n",
       "2   -4       0          3541             0.0\n",
       "3   -4       0          3541             0.0\n",
       "4   -4       0          3541             0.0"
      ]
     },
     "execution_count": 11,
     "metadata": {},
     "output_type": "execute_result"
    }
   ],
   "source": [
    "type1_series = pd.read_csv(f'timeseries/{type1_job.id}-timeseries.csv', usecols=['Step', 'Series', 'CPUFrequency', 'CPUUtilization'], dtype={'Step': 'string', 'Series': 'int64', 'CPUFrequency': 'int64', 'CPUUtilization': 'float64'})\n",
    "type1_series.head()"
   ]
  },
  {
   "cell_type": "code",
   "execution_count": 47,
   "metadata": {},
   "outputs": [],
   "source": [
    "def convert_timeseries(job, instructions_per_cycle=32):\n",
    "    id = job.id\n",
    "    cpus_allocated = job.cpus\n",
    "    cpus_per_node = 40 if job.partition == 'GPU-avail' else 48\n",
    "    resources_allocated = job.res\n",
    "\n",
    "    ts_df = pd.read_csv(f'timeseries/{id}-timeseries.csv', usecols=['Step', 'Series', 'CPUFrequency', 'CPUUtilization'], dtype={'Step': 'string', 'Series': 'int64', 'CPUFrequency': 'int64', 'CPUUtilization': 'float64'})\n",
    "\n",
    "    ts_df = ts_df[( ts_df['Step'].isin(['0', 'batch']) ) & ( ts_df['Series'].isin([x for x in range(resources_allocated)]) )].reset_index(drop=True)\n",
    "\n",
    "    if resources_allocated == 1 and 'batch' in ts_df['Step'].values:\n",
    "        ts_df = ts_df.drop(ts_df[ts_df['Step'] == '0'].index)\n",
    "    elif resources_allocated == 1 and 'batch' not in ts_df['Step'].values:\n",
    "        ts_df = ts_df.drop(ts_df[ts_df['Step'] == 'batch'].index)\n",
    "    elif resources_allocated > 1 and ts_df['Series'].max() == resources_allocated - 1:\n",
    "        ts_df = ts_df.drop(ts_df[ts_df['Step'] == 'batch'].index)\n",
    "    elif resources_allocated > 1 and ts_df['Series'].max() < resources_allocated - 1:\n",
    "        # set 'batch' series to resources_allocated - 1\n",
    "        ts_df.loc[ts_df['Step'] == 'batch', 'Series'] = resources_allocated - 1\n",
    "\n",
    "        # set 'batch' step to '0'\n",
    "        ts_df.loc[ts_df['Step'] == 'batch', 'Step'] = '0'\n",
    "\n",
    "    ts_df = ts_df.rename(columns={'Series': 'host'})\n",
    "\n",
    "    ts_df['flag'] = 'm_usage'\n",
    "    ts_df['usage'] = ts_df['CPUUtilization'] / (cpus_per_node * 100)\n",
    "    ts_df['usage'] = ts_df['usage'].clip(upper=1)\n",
    "    ts_df['flops'] = cpus_allocated * ts_df['CPUFrequency'] * instructions_per_cycle\n",
    "\n",
    "    ts_df = ts_df.drop(columns=['Step', 'CPUFrequency', 'CPUUtilization'])\n",
    "\n",
    "    return ts_df"
   ]
  },
  {
   "cell_type": "code",
   "execution_count": 49,
   "metadata": {},
   "outputs": [
    {
     "name": "stdout",
     "output_type": "stream",
     "text": [
      "      host     flag     usage    flops\n",
      "0        0  m_usage  0.000000  5449728\n",
      "1        0  m_usage  0.099675  5449728\n",
      "2        0  m_usage  0.368950  5449728\n",
      "3        0  m_usage  0.416850  5449728\n",
      "4        0  m_usage  0.497125  5449728\n",
      "...    ...      ...       ...      ...\n",
      "7393     1  m_usage  0.697425        0\n",
      "7394     1  m_usage  0.699500        0\n",
      "7395     1  m_usage  0.698625     1536\n",
      "7396     1  m_usage  0.071725     1536\n",
      "7397     1  m_usage  1.000000     1536\n",
      "\n",
      "[7398 rows x 4 columns]\n"
     ]
    }
   ],
   "source": [
    "print(convert_timeseries(type7_job))"
   ]
  },
  {
   "cell_type": "code",
   "execution_count": 14,
   "metadata": {},
   "outputs": [
    {
     "name": "stdout",
     "output_type": "stream",
     "text": [
      "host:  0\n"
     ]
    }
   ],
   "source": [
    "for host in type1_series['host'].unique():\n",
    "    print('host: ', host)"
   ]
  }
 ],
 "metadata": {
  "kernelspec": {
   "display_name": "Python 3 (ipykernel)",
   "language": "python",
   "name": "python3"
  },
  "language_info": {
   "codemirror_mode": {
    "name": "ipython",
    "version": 3
   },
   "file_extension": ".py",
   "mimetype": "text/x-python",
   "name": "python",
   "nbconvert_exporter": "python",
   "pygments_lexer": "ipython3",
   "version": "3.11.4"
  }
 },
 "nbformat": 4,
 "nbformat_minor": 4
}
